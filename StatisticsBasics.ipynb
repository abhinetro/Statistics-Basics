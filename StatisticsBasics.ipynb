{
  "nbformat": 4,
  "nbformat_minor": 0,
  "metadata": {
    "colab": {
      "provenance": []
    },
    "kernelspec": {
      "name": "python3",
      "display_name": "Python 3"
    },
    "language_info": {
      "name": "python"
    }
  },
  "cells": [
    {
      "cell_type": "markdown",
      "source": [
        "# **STATISTICS BASICS**"
      ],
      "metadata": {
        "id": "U56Vvi52EtRo"
      }
    },
    {
      "cell_type": "markdown",
      "source": [
        "### 1. What is statistics, and why is it important?\n",
        "**Statistics** is the science of collecting, analyzing, interpreting, and presenting data.\n",
        "\n",
        "**Importance:**\n",
        "- Helps in decision-making\n",
        "- Supports research and scientific studies\n",
        "- Used in various fields like economics, medicine, business, etc.\n",
        "\n",
        "---\n",
        "\n",
        "### 2. What are the two main types of statistics?\n",
        "- **Descriptive Statistics**\n",
        "- **Inferential Statistics**\n",
        "\n",
        "---\n",
        "\n",
        "### 3. What are descriptive statistics?\n",
        "Descriptive statistics summarize data using:\n",
        "- Measures of central tendency (mean, median, mode)\n",
        "- Measures of dispersion (range, variance, standard deviation)\n",
        "- Graphs (histogram, pie chart)\n",
        "\n",
        "---\n",
        "\n",
        "### 4. What is inferential statistics?\n",
        "Inferential statistics use sample data to make predictions or inferences about a population.\n",
        "- Example: Hypothesis testing, confidence intervals, regression analysis\n",
        "\n",
        "---\n",
        "\n",
        "### 5. What is sampling in statistics?\n",
        "**Sampling** is the process of selecting a subset of individuals from a population to estimate characteristics of the whole group.\n",
        "\n",
        "---\n",
        "\n",
        "### 6. What are the different types of sampling methods?\n",
        "- **Random Sampling**\n",
        "- **Systematic Sampling**\n",
        "- **Stratified Sampling**\n",
        "- **Cluster Sampling**\n",
        "\n",
        "---\n",
        "\n",
        "### 7. What is the difference between random and non-random sampling?\n",
        "- **Random Sampling:** Every member has an equal chance of being selected.\n",
        "- **Non-Random Sampling:** Selection is based on judgment or convenience.\n",
        "\n",
        "---\n",
        "\n",
        "### 8. Define and give examples of qualitative and quantitative data.\n",
        "- **Qualitative Data:** Descriptive, non-numeric (e.g., gender, color)\n",
        "- **Quantitative Data:** Numeric, measurable (e.g., age, salary)\n",
        "\n",
        "---\n",
        "\n",
        "### 9. What are the different types of data in statistics?\n",
        "- **Qualitative (Categorical):** Nominal, Ordinal\n",
        "- **Quantitative (Numerical):** Discrete, Continuous\n",
        "\n",
        "---\n",
        "\n",
        "### 10. Explain nominal, ordinal, interval, and ratio levels of measurement.\n",
        "| Level     | Description                            | Example              |\n",
        "|-----------|----------------------------------------|----------------------|\n",
        "| Nominal   | Categories only                        | Colors, Gender       |\n",
        "| Ordinal   | Categories with order                  | Ranks, Survey levels |\n",
        "| Interval  | Equal intervals, no true zero          | Temperature (°C)     |\n",
        "| Ratio     | Equal intervals, true zero exists      | Weight, Height       |\n",
        "\n",
        "---\n",
        "\n",
        "### 11. What is the measure of central tendency?\n",
        "A single value that describes the center of a dataset.  \n",
        "Includes: **Mean, Median, Mode**\n",
        "\n",
        "---\n",
        "\n",
        "### 12. Define mean, median, and mode.\n",
        "- **Mean:** Sum of values ÷ Number of values\n",
        "- **Median:** Middle value in an ordered dataset\n",
        "- **Mode:** Most frequent value\n",
        "\n",
        "---\n",
        "\n",
        "### 13. What is the significance of the measure of central tendency?\n",
        "It helps to:\n",
        "- Summarize data with a single representative value\n",
        "- Compare datasets\n",
        "- Understand trends\n",
        "\n",
        "---\n",
        "\n",
        "### 14. What is variance, and how is it calculated?\n",
        "\n",
        "**Variance** is a statistical measure of the dispersion of data points in a dataset. It shows how far each number in the set is from the mean and thus from every other number in the set.\n",
        "\n",
        "#### Formula:\n",
        "For a population:\n",
        "\\[\n",
        "\\sigma^2 = \\frac{1}{N} \\sum_{i=1}^{N} (x_i - \\mu)^2\n",
        "\\]\n",
        "\n",
        "For a sample:\n",
        "\\[\n",
        "s^2 = \\frac{1}{n - 1} \\sum_{i=1}^{n} (x_i - \\bar{x})^2\n",
        "\\]\n",
        "\n",
        "Where:\n",
        "- \\( x_i \\) = each data point  \n",
        "- \\( \\mu \\) = population mean  \n",
        "- \\( \\bar{x} \\) = sample mean  \n",
        "- \\( N \\) = number of data points in the population  \n",
        "- \\( n \\) = number of data points in the sample\n",
        "\n",
        "#### Example:\n",
        "Let’s say you have the sample data: 4, 8, 6\n",
        "\n",
        "1. Mean \\( \\bar{x} = \\frac{4 + 8 + 6}{3} = 6 \\)  \n",
        "2. Deviations from mean: (4 - 6)² = 4, (8 - 6)² = 4, (6 - 6)² = 0  \n",
        "3. Sum = 8  \n",
        "4. Sample variance = \\( \\frac{8}{3 - 1} = \\frac{8}{2} = 4 \\)\n",
        "\n",
        "---\n",
        "\n",
        "### 15. What is standard deviation, and why is it important?\n",
        "\n",
        "**Standard Deviation** is the square root of the variance. It tells us how much the values in a dataset typically differ from the mean.\n",
        "\n",
        "#### Formula:\n",
        "\\[\n",
        "\\sigma = \\sqrt{\\sigma^2}\n",
        "\\quad \\text{or} \\quad\n",
        "s = \\sqrt{s^2}\n",
        "\\]\n",
        "\n",
        "#### Example:\n",
        "From the previous variance example (variance = 4),  \n",
        "Standard deviation = \\( \\sqrt{4} = 2 \\)\n",
        "\n",
        "#### Importance:\n",
        "- It gives a clear picture of data spread\n",
        "- A smaller standard deviation means the data points are close to the mean\n",
        "- A larger one means more spread out data\n",
        "- Widely used in quality control, finance, research, etc.\n",
        "\n",
        "---\n",
        "\n",
        "### 16. Define and explain the term range in statistics.\n",
        "\n",
        "**Range** is the simplest measure of dispersion. It is the difference between the highest and the lowest value in a dataset.\n",
        "\n",
        "#### Formula:\n",
        "\\[\n",
        "\\text{Range} = \\text{Maximum Value} - \\text{Minimum Value}\n",
        "\\]\n",
        "\n",
        "#### Example:\n",
        "Data: 3, 7, 9, 15  \n",
        "Range = 15 - 3 = **12**\n",
        "\n",
        "#### Significance:\n",
        "- Easy to calculate\n",
        "- Gives a quick sense of how spread out the data is\n",
        "- Doesn’t reflect variability within the dataset well (affected by outliers)\n",
        "\n",
        "---\n",
        "\n",
        "### 17. What is the difference between variance and standard deviation?\n",
        "- **Variance:** Average squared deviation from the mean  \n",
        "- **Standard Deviation:** Square root of variance (more interpretable)\n",
        "\n",
        "---\n",
        "\n",
        "### 18. What is skewness in a dataset?\n",
        "**Skewness** measures the asymmetry of the data distribution.\n",
        "- **Positive skew:** Tail on the right\n",
        "- **Negative skew:** Tail on the left\n",
        "\n",
        "---\n",
        "\n",
        "### 19. What does it mean if a dataset is positively or negatively skewed?\n",
        "- **Positively Skewed:** Mean > Median > Mode  \n",
        "- **Negatively Skewed:** Mean < Median < Mode\n",
        "\n",
        "---\n",
        "\n",
        "### 20. Define and explain kurtosis.\n",
        "**Kurtosis** measures the \"tailedness\" of a distribution.\n",
        "- **High kurtosis:** Heavy tails (outliers)\n",
        "- **Low kurtosis:** Light tails\n",
        "\n",
        "---\n",
        "\n",
        "### 21. What is the purpose of covariance?\n",
        "**Covariance** shows how two variables change together.\n",
        "- Positive: Move in same direction\n",
        "- Negative: Move in opposite direction\n",
        "\n",
        "---\n",
        "\n",
        "### 22. What does correlation measure in statistics?\n",
        "**Correlation** measures the strength and direction of a linear relationship between two variables.  \n",
        "**Values range from -1 to +1.**\n",
        "\n",
        "---\n",
        "\n",
        "### 23. What is the difference between covariance and correlation?\n",
        "- **Covariance:** Indicates direction of relationship, not strength  \n",
        "- **Correlation:** Standardized covariance (unitless), shows strength and direction\n",
        "\n",
        "---\n",
        "\n",
        "### 24. What are some real-world applications of statistics?\n",
        "- **Business:** Market analysis, quality control  \n",
        "- **Healthcare:** Drug testing, disease prediction  \n",
        "- **Sports:** Performance analysis  \n",
        "- **Government:** Census, policy planning  \n",
        "- **Education:** Test score analysis\n",
        "\n",
        "---\n"
      ],
      "metadata": {
        "id": "l7HhSdcfA3Lb"
      }
    },
    {
      "cell_type": "markdown",
      "source": [
        "# **Practical**"
      ],
      "metadata": {
        "id": "0GZGEADmEglK"
      }
    },
    {
      "cell_type": "code",
      "source": [
        "# 1. How do you calculate the mean, median, and mode of a dataset?\n",
        "\n",
        "import numpy as np\n",
        "from scipy import stats\n",
        "\n",
        "data = [10, 20, 20, 30, 40, 50, 60]\n",
        "\n",
        "mean = np.mean(data)\n",
        "median = np.median(data)\n",
        "mode_result = stats.mode(data, keepdims=True)\n",
        "\n",
        "print(\"Mean:\", mean)\n",
        "print(\"Median:\", median)\n",
        "print(\"Mode:\", mode_result.mode[0])\n"
      ],
      "metadata": {
        "colab": {
          "base_uri": "https://localhost:8080/"
        },
        "id": "BVjFlNEXEdmO",
        "outputId": "611cf458-8b7b-4016-b633-094ebbf0112d"
      },
      "execution_count": 4,
      "outputs": [
        {
          "output_type": "stream",
          "name": "stdout",
          "text": [
            "Mean: 32.857142857142854\n",
            "Median: 30.0\n",
            "Mode: 20\n"
          ]
        }
      ]
    },
    {
      "cell_type": "code",
      "source": [
        "# 2. Write a Python program to compute the variance and standard deviation of a dataset.\n",
        "\n",
        "import numpy as np\n",
        "\n",
        "data = [10, 20, 20, 30, 40, 50, 60]\n",
        "\n",
        "variance = np.var(data)\n",
        "std_deviation = np.std(data)\n",
        "\n",
        "print(\"Variance:\", variance)\n",
        "print(\"Standard Deviation:\", std_deviation)"
      ],
      "metadata": {
        "colab": {
          "base_uri": "https://localhost:8080/"
        },
        "id": "lMgYCX4FF-RA",
        "outputId": "df0727fa-c1e9-476a-eca1-f0fe62dc66ee"
      },
      "execution_count": 5,
      "outputs": [
        {
          "output_type": "stream",
          "name": "stdout",
          "text": [
            "Variance: 277.55102040816325\n",
            "Standard Deviation: 16.65986255670086\n"
          ]
        }
      ]
    },
    {
      "cell_type": "code",
      "source": [
        "# 3. Create a dataset and classify it into nominal, ordinal, interval, and ratio types.\n",
        "\n",
        "# Nominal: Categories without order\n",
        "colors = ['Red', 'Blue', 'Green']\n",
        "\n",
        "# Ordinal: Categories with a specific order\n",
        "sizes = ['Small', 'Medium', 'Large']\n",
        "\n",
        "# Interval: Numeric scale without a true zero (e.g., temperature in Celsius)\n",
        "temperatures = [20, 25, 30, 35]\n",
        "\n",
        "# Ratio: Numeric scale with a true zero (e.g., weight, height)\n",
        "weights = [50, 60, 70, 80]\n",
        "\n",
        "print(\"Nominal Data:\", colors)\n",
        "print(\"Ordinal Data:\", sizes)\n",
        "print(\"Interval Data:\", temperatures)\n",
        "print(\"Ratio Data:\", weights)"
      ],
      "metadata": {
        "colab": {
          "base_uri": "https://localhost:8080/"
        },
        "id": "-l-EsluCGI17",
        "outputId": "198b0c3e-e515-40f7-b949-e44aa3458ce7"
      },
      "execution_count": 6,
      "outputs": [
        {
          "output_type": "stream",
          "name": "stdout",
          "text": [
            "Nominal Data: ['Red', 'Blue', 'Green']\n",
            "Ordinal Data: ['Small', 'Medium', 'Large']\n",
            "Interval Data: [20, 25, 30, 35]\n",
            "Ratio Data: [50, 60, 70, 80]\n"
          ]
        }
      ]
    },
    {
      "cell_type": "code",
      "source": [
        "# 4. Implement sampling techniques like random sampling and stratified sampling.\n",
        "\n",
        "import pandas as pd\n",
        "from sklearn.model_selection import train_test_split\n",
        "\n",
        "data = pd.DataFrame({\n",
        "    'Gender': ['Male', 'Female'] * 5,\n",
        "    'Age': [23, 45, 31, 22, 35, 29, 41, 26, 30, 40]\n",
        "})\n",
        "\n",
        "# Random Sampling\n",
        "random_sample = data.sample(n=4)\n",
        "print(\"Random Sample:\\n\", random_sample)\n",
        "\n",
        "# Stratified Sampling\n",
        "strat_sample, _ = train_test_split(data, test_size=0.6, stratify=data['Gender'])\n",
        "print(\"Stratified Sample:\\n\", strat_sample)"
      ],
      "metadata": {
        "colab": {
          "base_uri": "https://localhost:8080/"
        },
        "id": "m9rMC9kiGNNK",
        "outputId": "601b5c36-a5b6-4ab7-9f0a-e2d4f6722531"
      },
      "execution_count": 7,
      "outputs": [
        {
          "output_type": "stream",
          "name": "stdout",
          "text": [
            "Random Sample:\n",
            "    Gender  Age\n",
            "7  Female   26\n",
            "5  Female   29\n",
            "0    Male   23\n",
            "3  Female   22\n",
            "Stratified Sample:\n",
            "    Gender  Age\n",
            "7  Female   26\n",
            "2    Male   31\n",
            "0    Male   23\n",
            "9  Female   40\n"
          ]
        }
      ]
    },
    {
      "cell_type": "code",
      "source": [
        "# 5. Write a Python function to calculate the range of a dataset.\n",
        "\n",
        "def calculate_range(data):\n",
        "    return max(data) - min(data)\n",
        "\n",
        "data = [10, 20, 30, 40, 50]\n",
        "print(\"Range:\", calculate_range(data))"
      ],
      "metadata": {
        "colab": {
          "base_uri": "https://localhost:8080/"
        },
        "id": "0CdCplPwGNJk",
        "outputId": "8b6b76a0-46f6-44e8-810e-4f87e04e1b8a"
      },
      "execution_count": 8,
      "outputs": [
        {
          "output_type": "stream",
          "name": "stdout",
          "text": [
            "Range: 40\n"
          ]
        }
      ]
    },
    {
      "cell_type": "code",
      "source": [
        "# 6. Create a dataset and plot its histogram to visualize skewness.\n",
        "\n",
        "import matplotlib.pyplot as plt\n",
        "import seaborn as sns\n",
        "import numpy as np\n",
        "\n",
        "data = np.random.exponential(scale=2.0, size=1000)\n",
        "\n",
        "plt.hist(data, bins=30, color='skyblue', edgecolor='black')\n",
        "plt.title('Histogram to Visualize Skewness')\n",
        "plt.xlabel('Values')\n",
        "plt.ylabel('Frequency')\n",
        "plt.show()"
      ],
      "metadata": {
        "colab": {
          "base_uri": "https://localhost:8080/",
          "height": 472
        },
        "id": "8ynHL2RBGNGw",
        "outputId": "f50dacc9-bcb3-4dad-877e-b8c7cf074b8b"
      },
      "execution_count": 9,
      "outputs": [
        {
          "output_type": "display_data",
          "data": {
            "text/plain": [
              "<Figure size 640x480 with 1 Axes>"
            ],
            "image/png": "[encoded data removed]"
          },
          "metadata": {}
        }
      ]
    },
    {
      "cell_type": "code",
      "source": [
        "# 7. Calculate skewness and kurtosis of a dataset using Python libraries.\n",
        "\n",
        "from scipy.stats import skew, kurtosis\n",
        "\n",
        "data = np.random.normal(loc=0, scale=1, size=1000)\n",
        "\n",
        "print(\"Skewness:\", skew(data))\n",
        "print(\"Kurtosis:\", kurtosis(data))"
      ],
      "metadata": {
        "colab": {
          "base_uri": "https://localhost:8080/"
        },
        "id": "aN8FCWK-GND_",
        "outputId": "5f52a454-1265-4fbc-9792-b8033d2f4b07"
      },
      "execution_count": 10,
      "outputs": [
        {
          "output_type": "stream",
          "name": "stdout",
          "text": [
            "Skewness: 0.02001002277119077\n",
            "Kurtosis: 0.031943313735828927\n"
          ]
        }
      ]
    },
    {
      "cell_type": "code",
      "source": [
        "# 8. Generate a dataset and demonstrate positive and negative skewness.\n",
        "\n",
        "pos_skew = np.random.exponential(scale=2.0, size=1000)\n",
        "neg_skew = np.random.beta(a=2, b=5, size=1000)\n",
        "\n",
        "plt.figure(figsize=(10, 4))\n",
        "\n",
        "plt.subplot(1, 2, 1)\n",
        "plt.hist(pos_skew, bins=30, color='green', edgecolor='black')\n",
        "plt.title('Positive Skew')\n",
        "\n",
        "plt.subplot(1, 2, 2)\n",
        "plt.hist(neg_skew, bins=30, color='red', edgecolor='black')\n",
        "plt.title('Negative Skew')\n",
        "\n",
        "plt.tight_layout()\n",
        "plt.show()"
      ],
      "metadata": {
        "colab": {
          "base_uri": "https://localhost:8080/",
          "height": 407
        },
        "id": "jTDb5VUbGNBJ",
        "outputId": "28255d3f-62ce-43bf-fa84-f7c115ca96a4"
      },
      "execution_count": 11,
      "outputs": [
        {
          "output_type": "display_data",
          "data": {
            "text/plain": [
              "<Figure size 1000x400 with 2 Axes>"
            ],
            "image/png": "[encoded data removed]"
          },
          "metadata": {}
        }
      ]
    },
    {
      "cell_type": "code",
      "source": [
        "# 9. Write a Python script to calculate covariance between two datasets.\n",
        "\n",
        "dataset1 = [2, 4, 6, 8, 10]\n",
        "dataset2 = [1, 3, 5, 7, 9]\n",
        "\n",
        "cov_matrix = np.cov(dataset1, dataset2)\n",
        "print(\"Covariance:\", cov_matrix[0, 1])"
      ],
      "metadata": {
        "colab": {
          "base_uri": "https://localhost:8080/"
        },
        "id": "03Fv-M76GM-M",
        "outputId": "2941af64-d9d4-4b08-dac8-f27c4014d7a6"
      },
      "execution_count": 12,
      "outputs": [
        {
          "output_type": "stream",
          "name": "stdout",
          "text": [
            "Covariance: 10.0\n"
          ]
        }
      ]
    },
    {
      "cell_type": "code",
      "source": [
        "# 10. Write a Python script to calculate the correlation coefficient between two datasets.\n",
        "\n",
        "corr_coef = np.corrcoef(dataset1, dataset2)\n",
        "print(\"Correlation Coefficient:\", corr_coef[0, 1])"
      ],
      "metadata": {
        "colab": {
          "base_uri": "https://localhost:8080/"
        },
        "id": "Og5WVq_MGM7J",
        "outputId": "4efd2db0-b372-4676-a390-1e5dd97bbe0e"
      },
      "execution_count": 13,
      "outputs": [
        {
          "output_type": "stream",
          "name": "stdout",
          "text": [
            "Correlation Coefficient: 0.9999999999999999\n"
          ]
        }
      ]
    },
    {
      "cell_type": "code",
      "source": [
        "# 11. Create a scatter plot to visualize the relationship between two variables.\n",
        "\n",
        "plt.scatter(dataset1, dataset2, color='purple')\n",
        "plt.title('Scatter Plot')\n",
        "plt.xlabel('Dataset 1')\n",
        "plt.ylabel('Dataset 2')\n",
        "plt.show()"
      ],
      "metadata": {
        "colab": {
          "base_uri": "https://localhost:8080/",
          "height": 472
        },
        "id": "gIsN4vvIGM4N",
        "outputId": "4960d1ee-be53-4052-bac5-f1d3af817d31"
      },
      "execution_count": 14,
      "outputs": [
        {
          "output_type": "display_data",
          "data": {
            "text/plain": [
              "<Figure size 640x480 with 1 Axes>"
            ],
            "image/png": "[encoded data removed]"
          },
          "metadata": {}
        }
      ]
    },
    {
      "cell_type": "code",
      "source": [
        "# 12. Implement and compare simple random sampling and systematic sampling.\n",
        "\n",
        "data = list(range(1, 101))\n",
        "\n",
        "# Simple Random Sampling\n",
        "random_sample = np.random.choice(data, size=10, replace=False)\n",
        "print(\"Simple Random Sample:\", random_sample)\n",
        "\n",
        "# Systematic Sampling\n",
        "k = 10\n",
        "systematic_sample = [data[i] for i in range(0, len(data), k)]\n",
        "print(\"Systematic Sample:\", systematic_sample)"
      ],
      "metadata": {
        "colab": {
          "base_uri": "https://localhost:8080/"
        },
        "id": "BFDXd50MGM1C",
        "outputId": "a98d68da-f66b-4d47-f153-db274a96515f"
      },
      "execution_count": 15,
      "outputs": [
        {
          "output_type": "stream",
          "name": "stdout",
          "text": [
            "Simple Random Sample: [16 89 75 38 64 50 31 95 80  1]\n",
            "Systematic Sample: [1, 11, 21, 31, 41, 51, 61, 71, 81, 91]\n"
          ]
        }
      ]
    },
    {
      "cell_type": "code",
      "source": [
        "# 13. Calculate the mean, median, and mode of grouped data.\n",
        "\n",
        "import pandas as pd\n",
        "\n",
        "grouped_data = pd.Series([5, 8, 6, 10, 12], index=[(0, 10), (10, 20), (20, 30), (30, 40), (40, 50)])\n",
        "\n",
        "# Calculate midpoints\n",
        "midpoints = [(i[0] + i[1])/2 for i in grouped_data.index]\n",
        "frequencies = grouped_data.values\n",
        "\n",
        "mean = sum([m*f for m, f in zip(midpoints, frequencies)]) / sum(frequencies)\n",
        "median = midpoints[len(midpoints)//2]\n",
        "mode = midpoints[frequencies.tolist().index(max(frequencies))]\n",
        "\n",
        "print(\"Mean:\", mean)\n",
        "print(\"Median:\", median)\n",
        "print(\"Mode:\", mode)"
      ],
      "metadata": {
        "colab": {
          "base_uri": "https://localhost:8080/"
        },
        "id": "C1x6V8WtGMx9",
        "outputId": "7af39b4b-c9ea-46eb-f7a2-7196ee4972ae"
      },
      "execution_count": 16,
      "outputs": [
        {
          "output_type": "stream",
          "name": "stdout",
          "text": [
            "Mean: 28.902439024390244\n",
            "Median: 25.0\n",
            "Mode: 45.0\n"
          ]
        }
      ]
    },
    {
      "cell_type": "code",
      "source": [
        "# 14. Simulate data using Python and calculate its central tendency and dispersion.\n",
        "\n",
        "data = np.random.normal(loc=50, scale=15, size=1000)\n",
        "\n",
        "print(\"Mean:\", np.mean(data))\n",
        "print(\"Median:\", np.median(data))\n",
        "print(\"Mode:\", stats.mode(data, keepdims=True).mode[0])\n",
        "print(\"Standard Deviation:\", np.std(data))\n",
        "print(\"Variance:\", np.var(data))"
      ],
      "metadata": {
        "colab": {
          "base_uri": "https://localhost:8080/"
        },
        "id": "KxavEgnZGMvG",
        "outputId": "390d2346-0c0d-41d5-ef01-bfd5fa185a8c"
      },
      "execution_count": 17,
      "outputs": [
        {
          "output_type": "stream",
          "name": "stdout",
          "text": [
            "Mean: 50.0494854892732\n",
            "Median: 49.97939432584148\n",
            "Mode: 0.9514513945491103\n",
            "Standard Deviation: 14.535302915747918\n",
            "Variance: 211.27503085254995\n"
          ]
        }
      ]
    },
    {
      "cell_type": "code",
      "source": [
        "# 15. Use NumPy or pandas to summarize a dataset’s descriptive statistics.\n",
        "\n",
        "import pandas as pd\n",
        "\n",
        "data = pd.DataFrame({\n",
        "    'Scores': np.random.randint(50, 100, size=20)\n",
        "})\n",
        "\n",
        "print(data.describe())"
      ],
      "metadata": {
        "colab": {
          "base_uri": "https://localhost:8080/"
        },
        "id": "tQ_iwWYFGMr9",
        "outputId": "c73202fc-0dff-464c-a240-f529472f1ece"
      },
      "execution_count": 18,
      "outputs": [
        {
          "output_type": "stream",
          "name": "stdout",
          "text": [
            "          Scores\n",
            "count  20.000000\n",
            "mean   76.500000\n",
            "std    15.118828\n",
            "min    50.000000\n",
            "25%    64.750000\n",
            "50%    78.000000\n",
            "75%    89.250000\n",
            "max    98.000000\n"
          ]
        }
      ]
    },
    {
      "cell_type": "code",
      "source": [
        "# 17. Calculate the interquartile range (IQR) of a dataset.\n",
        "\n",
        "q1 = data['Scores'].quantile(0.25)\n",
        "q3 = data['Scores'].quantile(0.75)\n",
        "iqr = q3 - q1\n",
        "print(\"Interquartile Range (IQR):\", iqr)"
      ],
      "metadata": {
        "colab": {
          "base_uri": "https://localhost:8080/"
        },
        "id": "SQo5IuJrGMo5",
        "outputId": "48be9152-ed7f-48d3-bfcb-95ac48919605"
      },
      "execution_count": 19,
      "outputs": [
        {
          "output_type": "stream",
          "name": "stdout",
          "text": [
            "Interquartile Range (IQR): 24.5\n"
          ]
        }
      ]
    },
    {
      "cell_type": "code",
      "source": [
        "# 18. Implement Z-score normalization and explain its significance.\n",
        "\n",
        "z_scores = (data['Scores'] - data['Scores'].mean()) / data['Scores'].std()\n",
        "print(\"Z-scores:\\n\", z_scores)\n",
        "\n",
        "# Z-score normalization transforms data into a distribution with mean 0 and std 1."
      ],
      "metadata": {
        "colab": {
          "base_uri": "https://localhost:8080/"
        },
        "id": "5AgCvktTGMmE",
        "outputId": "331d8786-0fd3-450e-8778-2f488f13abb8"
      },
      "execution_count": 20,
      "outputs": [
        {
          "output_type": "stream",
          "name": "stdout",
          "text": [
            "Z-scores:\n",
            " 0     1.025212\n",
            "1     1.025212\n",
            "2    -1.752781\n",
            "3     0.694498\n",
            "4     0.760641\n",
            "5     1.422068\n",
            "6    -0.959069\n",
            "7    -1.620496\n",
            "8     0.826784\n",
            "9    -0.826784\n",
            "10   -1.752781\n",
            "11    0.165357\n",
            "12    0.496070\n",
            "13   -0.033071\n",
            "14   -0.760641\n",
            "15   -0.231499\n",
            "16    0.892926\n",
            "17   -0.363785\n",
            "18    0.033071\n",
            "19    0.959069\n",
            "Name: Scores, dtype: float64\n"
          ]
        }
      ]
    },
    {
      "cell_type": "code",
      "source": [
        "# 19. Compare two datasets using their standard deviations.\n",
        "\n",
        "data1 = np.random.normal(0, 1, 1000)\n",
        "data2 = np.random.normal(0, 5, 1000)\n",
        "\n",
        "print(\"Standard Deviation of Data1:\", np.std(data1))\n",
        "print(\"Standard Deviation of Data2:\", np.std(data2))"
      ],
      "metadata": {
        "colab": {
          "base_uri": "https://localhost:8080/"
        },
        "id": "teTvnuN1GMjP",
        "outputId": "ead512c8-a59d-4873-c8d2-a9420361b548"
      },
      "execution_count": 21,
      "outputs": [
        {
          "output_type": "stream",
          "name": "stdout",
          "text": [
            "Standard Deviation of Data1: 0.9843615892861386\n",
            "Standard Deviation of Data2: 4.640102834923011\n"
          ]
        }
      ]
    },
    {
      "cell_type": "code",
      "source": [
        "# 20. Write a Python program to visualize covariance using a heatmap.\n",
        "\n",
        "df = pd.DataFrame({\n",
        "    'X': np.random.rand(100),\n",
        "    'Y': np.random.rand(100),\n",
        "    'Z': np.random.rand(100)\n",
        "})\n",
        "\n",
        "sns.heatmap(df.cov(), annot=True, cmap='coolwarm')\n",
        "plt.title('Covariance Heatmap')\n",
        "plt.show()"
      ],
      "metadata": {
        "colab": {
          "base_uri": "https://localhost:8080/",
          "height": 452
        },
        "id": "bWcOChKuGMYI",
        "outputId": "8c2c46f0-bed9-486a-dec0-8ced3142b40c"
      },
      "execution_count": 22,
      "outputs": [
        {
          "output_type": "display_data",
          "data": {
            "text/plain": [
              "<Figure size 640x480 with 2 Axes>"
            ],
            "image/png": "[encoded data removed]"
          },
          "metadata": {}
        }
      ]
    },
    {
      "cell_type": "code",
      "source": [
        "# 21. Use seaborn to create a correlation matrix for a dataset.\n",
        "\n",
        "sns.heatmap(df.corr(), annot=True, cmap='coolwarm')\n",
        "plt.title('Correlation Matrix')\n",
        "plt.show()"
      ],
      "metadata": {
        "colab": {
          "base_uri": "https://localhost:8080/",
          "height": 452
        },
        "id": "lQ-umF9lGMCy",
        "outputId": "86fd01cc-097b-45b8-ed13-24c7c0e1a56d"
      },
      "execution_count": 23,
      "outputs": [
        {
          "output_type": "display_data",
          "data": {
            "text/plain": [
              "<Figure size 640x480 with 2 Axes>"
            ],
            "image/png": "[encoded data removed]"
          },
          "metadata": {}
        }
      ]
    },
    {
      "cell_type": "code",
      "source": [
        "# 22. Generate a dataset and implement both variance and standard deviation computations.\n",
        "\n",
        "data = np.random.randint(1, 100, 50)\n",
        "print(\"Data:\", data)\n",
        "print(\"Variance:\", np.var(data))\n",
        "print(\"Standard Deviation:\", np.std(data))"
      ],
      "metadata": {
        "colab": {
          "base_uri": "https://localhost:8080/"
        },
        "id": "3OXXudxDKuhy",
        "outputId": "891c5805-11ee-4038-b7fe-05ddc8a7412f"
      },
      "execution_count": 24,
      "outputs": [
        {
          "output_type": "stream",
          "name": "stdout",
          "text": [
            "Data: [76 59  7  9 81 64 79 16 54 85  3 42 38 57 16 47 80 25 41 98 76 79 64 86\n",
            " 39 54 93 34 25 26 70 26 22  9 14 57 13 93 20  3 99 26 39 62 88 16 42 24\n",
            " 34  1]\n",
            "Variance: 846.2516\n",
            "Standard Deviation: 29.09040391606827\n"
          ]
        }
      ]
    },
    {
      "cell_type": "code",
      "source": [
        "# 23. Visualize skewness and kurtosis using Python libraries like matplotlib or seaborn.\n",
        "\n",
        "sns.histplot(data, kde=True, color='orange')\n",
        "plt.title('Histogram with Skewness & Kurtosis')\n",
        "plt.show()\n",
        "\n",
        "print(\"Skewness:\", skew(data))\n",
        "print(\"Kurtosis:\", kurtosis(data))"
      ],
      "metadata": {
        "colab": {
          "base_uri": "https://localhost:8080/",
          "height": 487
        },
        "id": "4DYVQaeHKtnS",
        "outputId": "6361846e-cd10-4ad9-896f-84ff89bd5e05"
      },
      "execution_count": 25,
      "outputs": [
        {
          "output_type": "display_data",
          "data": {
            "text/plain": [
              "<Figure size 640x480 with 1 Axes>"
            ],
            "image/png": "[encoded data removed]"
          },
          "metadata": {}
        },
        {
          "output_type": "stream",
          "name": "stdout",
          "text": [
            "Skewness: 0.2113805098142268\n",
            "Kurtosis: -1.2177994885053873\n"
          ]
        }
      ]
    },
    {
      "cell_type": "code",
      "source": [
        "# 24. Implement the Pearson and Spearman correlation coefficients for a dataset.\n",
        "\n",
        "from scipy.stats import spearmanr\n",
        "\n",
        "x = np.random.rand(100)\n",
        "y = np.random.rand(100)\n",
        "\n",
        "pearson_corr = np.corrcoef(x, y)[0, 1]\n",
        "spearman_corr, _ = spearmanr(x, y)\n",
        "\n",
        "print(\"Pearson Correlation:\", pearson_corr)\n",
        "print(\"Spearman Correlation:\", spearman_corr)"
      ],
      "metadata": {
        "colab": {
          "base_uri": "https://localhost:8080/"
        },
        "id": "wRSjxrORKtby",
        "outputId": "eb6bf2a1-2f2a-4310-a893-7abdd63bbc4f"
      },
      "execution_count": 26,
      "outputs": [
        {
          "output_type": "stream",
          "name": "stdout",
          "text": [
            "Pearson Correlation: 0.019981060384012015\n",
            "Spearman Correlation: 0.028442844284428438\n"
          ]
        }
      ]
    }
  ]
}